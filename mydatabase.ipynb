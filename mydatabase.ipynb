{
  "nbformat": 4,
  "nbformat_minor": 0,
  "metadata": {
    "colab": {
      "name": "mydatabase",
      "provenance": [],
      "authorship_tag": "ABX9TyMs58GKfgVwQ2r6iED1S/DK",
      "include_colab_link": true
    },
    "kernelspec": {
      "name": "python3",
      "display_name": "Python 3"
    },
    "language_info": {
      "name": "python"
    }
  },
  "cells": [
    {
      "cell_type": "markdown",
      "metadata": {
        "id": "view-in-github",
        "colab_type": "text"
      },
      "source": [
        "<a href=\"https://colab.research.google.com/github/Andresf8006/paas2/blob/main/mydatabase.ipynb\" target=\"_parent\"><img src=\"https://colab.research.google.com/assets/colab-badge.svg\" alt=\"Open In Colab\"/></a>"
      ]
    },
    {
      "cell_type": "code",
      "execution_count": null,
      "metadata": {
        "colab": {
          "base_uri": "https://localhost:8080/"
        },
        "id": "YG7kU5O-W3L-",
        "outputId": "e16da4b9-9771-4777-8464-d2a56db16e2d"
      },
      "outputs": [
        {
          "output_type": "stream",
          "name": "stdout",
          "text": [
            "Looking in indexes: https://pypi.org/simple, https://us-python.pkg.dev/colab-wheels/public/simple/\n",
            "Collecting mysql-connector-python\n",
            "  Downloading mysql_connector_python-8.0.30-cp37-cp37m-manylinux1_x86_64.whl (25.4 MB)\n",
            "\u001b[K     |████████████████████████████████| 25.4 MB 46.5 MB/s \n",
            "\u001b[?25hRequirement already satisfied: protobuf<=3.20.1,>=3.11.0 in /usr/local/lib/python3.7/dist-packages (from mysql-connector-python) (3.17.3)\n",
            "Requirement already satisfied: six>=1.9 in /usr/local/lib/python3.7/dist-packages (from protobuf<=3.20.1,>=3.11.0->mysql-connector-python) (1.15.0)\n",
            "Installing collected packages: mysql-connector-python\n",
            "Successfully installed mysql-connector-python-8.0.30\n"
          ]
        }
      ],
      "source": [
        "pip install mysql-connector-python"
      ]
    },
    {
      "cell_type": "code",
      "source": [
        "import mysql.connector\n",
        "\n",
        "mydb = mysql.connector.connect(\n",
        "  host=\"us-east.connect.psdb.cloud\",\n",
        "  user=\"lneyka6k6i4aadd5e4ma\",\n",
        "  password=\"pscale_pw_4jqwx8KupGeEpOqvs94cjcYpmOjjjMgbt1T6J5OPUhO\",\n",
        "  database=\"mydatabase\"\n",
        ")"
      ],
      "metadata": {
        "id": "3kdilyaeZgWv"
      },
      "execution_count": null,
      "outputs": []
    },
    {
      "cell_type": "code",
      "source": [
        "import mysql.connector\n",
        "\n",
        "mydb = mysql.connector.connect(\n",
        "  host=\"us-east.connect.psdb.cloud\",\n",
        "  user=\"lneyka6k6i4aadd5e4ma\",\n",
        "  password=\"pscale_pw_4jqwx8KupGeEpOqvs94cjcYpmOjjjMgbt1T6J5OPUhO\",\n",
        "  database=\"mydatabase\"\n",
        ")\n",
        "\n",
        "mycursor = mydb.cursor()\n",
        "\n",
        "mycursor.execute(\"CREATE TABLE customers (name VARCHAR(255), address VARCHAR(255))\")"
      ],
      "metadata": {
        "id": "L2eCmJ_1Z8uO"
      },
      "execution_count": null,
      "outputs": []
    },
    {
      "cell_type": "code",
      "source": [
        "import mysql.connector\n",
        "\n",
        "mydb = mysql.connector.connect(\n",
        "  host=\"us-east.connect.psdb.cloud\",\n",
        "  user=\"lneyka6k6i4aadd5e4ma\",\n",
        "  password=\"pscale_pw_4jqwx8KupGeEpOqvs94cjcYpmOjjjMgbt1T6J5OPUhO\",\n",
        "  database=\"mydatabase\"\n",
        ")\n",
        "\n",
        "mycursor = mydb.cursor()\n",
        "\n",
        "sql = \"INSERT INTO customers (name, address) VALUES (%s, %s)\"\n",
        "val = (\"John\", \"Highway 21\")\n",
        "mycursor.execute(sql, val)\n",
        "\n",
        "mydb.commit()\n",
        "\n",
        "print(mycursor.rowcount, \"record inserted.\")"
      ],
      "metadata": {
        "colab": {
          "base_uri": "https://localhost:8080/"
        },
        "id": "KZpKTdX0bVLt",
        "outputId": "2782e9f7-8857-4c84-b795-7fb3d16d2a9e"
      },
      "execution_count": null,
      "outputs": [
        {
          "output_type": "stream",
          "name": "stdout",
          "text": [
            "1 record inserted.\n"
          ]
        }
      ]
    },
    {
      "cell_type": "code",
      "source": [
        "import mysql.connector\n",
        "\n",
        "mydb = mysql.connector.connect(\n",
        "  host=\"us-east.connect.psdb.cloud\",\n",
        "  user=\"lneyka6k6i4aadd5e4ma\",\n",
        "  password=\"pscale_pw_4jqwx8KupGeEpOqvs94cjcYpmOjjjMgbt1T6J5OPUhO\",\n",
        "  database=\"mydatabase\"\n",
        ")\n",
        "\n",
        "mycursor = mydb.cursor()\n",
        "\n",
        "sql = \"INSERT INTO customers (name, address) VALUES (%s, %s)\"\n",
        "val = [\n",
        "  ('Peter', 'Lowstreet 4'),\n",
        "  ('Amy', 'Apple st 652'),\n",
        "  ('Hannah', 'Mountain 21'),\n",
        "  ('Michael', 'Valley 345'),\n",
        "  ('Sandy', 'Ocean blvd 2'),\n",
        "  ('Betty', 'Green Grass 1'),\n",
        "  ('Richard', 'Sky st 331'),\n",
        "  ('Susan', 'One way 98'),\n",
        "  ('Vicky', 'Yellow Garden 2'),\n",
        "  ('Ben', 'Park Lane 38'),\n",
        "  ('William', 'Central st 954'),\n",
        "  ('Chuck', 'Main Road 989'),\n",
        "  ('Viola', 'Sideway 1633')\n",
        "]\n",
        "\n",
        "mycursor.executemany(sql, val)\n",
        "\n",
        "mydb.commit()\n",
        "\n",
        "print(mycursor.rowcount, \"was inserted.\")"
      ],
      "metadata": {
        "colab": {
          "base_uri": "https://localhost:8080/"
        },
        "id": "szwRfWkpbspC",
        "outputId": "d981584e-f25a-477e-8323-97d1d7a0d128"
      },
      "execution_count": null,
      "outputs": [
        {
          "output_type": "stream",
          "name": "stdout",
          "text": [
            "13 was inserted.\n"
          ]
        }
      ]
    },
    {
      "cell_type": "code",
      "source": [
        "import mysql.connector\n",
        "\n",
        "mydb = mysql.connector.connect(\n",
        "  host=\"us-east.connect.psdb.cloud\",\n",
        "  user=\"lneyka6k6i4aadd5e4ma\",\n",
        "  password=\"pscale_pw_4jqwx8KupGeEpOqvs94cjcYpmOjjjMgbt1T6J5OPUhO\",\n",
        "  database=\"mydatabase\"\n",
        ")\n",
        "\n",
        "mycursor = mydb.cursor()\n",
        "\n",
        "mycursor.execute(\"SELECT * FROM customers\")\n",
        "\n",
        "myresult = mycursor.fetchall()\n",
        "\n",
        "for x in myresult:\n",
        "  print(x)"
      ],
      "metadata": {
        "colab": {
          "base_uri": "https://localhost:8080/"
        },
        "id": "zFG55LcWcDz5",
        "outputId": "3edd0194-198c-49be-c76d-7030551325da"
      },
      "execution_count": null,
      "outputs": [
        {
          "output_type": "stream",
          "name": "stdout",
          "text": [
            "('John', 'Highway 21')\n",
            "('Peter', 'Lowstreet 4')\n",
            "('Amy', 'Apple st 652')\n",
            "('Hannah', 'Mountain 21')\n",
            "('Michael', 'Valley 345')\n",
            "('Sandy', 'Ocean blvd 2')\n",
            "('Betty', 'Green Grass 1')\n",
            "('Richard', 'Sky st 331')\n",
            "('Susan', 'One way 98')\n",
            "('Vicky', 'Yellow Garden 2')\n",
            "('Ben', 'Park Lane 38')\n",
            "('William', 'Central st 954')\n",
            "('Chuck', 'Main Road 989')\n",
            "('Viola', 'Sideway 1633')\n"
          ]
        }
      ]
    }
  ]
}